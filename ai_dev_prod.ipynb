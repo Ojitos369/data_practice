{
 "cells": [
  {
   "cell_type": "code",
   "execution_count": 1,
   "id": "843bcc67",
   "metadata": {},
   "outputs": [
    {
     "name": "stderr",
     "output_type": "stream",
     "text": [
      "2025-05-30 12:38:06.168252: I tensorflow/core/util/port.cc:153] oneDNN custom operations are on. You may see slightly different numerical results due to floating-point round-off errors from different computation orders. To turn them off, set the environment variable `TF_ENABLE_ONEDNN_OPTS=0`.\n",
      "2025-05-30 12:38:06.798177: E external/local_xla/xla/stream_executor/cuda/cuda_fft.cc:467] Unable to register cuFFT factory: Attempting to register factory for plugin cuFFT when one has already been registered\n",
      "WARNING: All log messages before absl::InitializeLog() is called are written to STDERR\n",
      "E0000 00:00:1748630287.003624  115899 cuda_dnn.cc:8579] Unable to register cuDNN factory: Attempting to register factory for plugin cuDNN when one has already been registered\n",
      "E0000 00:00:1748630287.064146  115899 cuda_blas.cc:1407] Unable to register cuBLAS factory: Attempting to register factory for plugin cuBLAS when one has already been registered\n",
      "W0000 00:00:1748630287.618913  115899 computation_placer.cc:177] computation placer already registered. Please check linkage and avoid linking the same target more than once.\n",
      "W0000 00:00:1748630287.618971  115899 computation_placer.cc:177] computation placer already registered. Please check linkage and avoid linking the same target more than once.\n",
      "W0000 00:00:1748630287.618974  115899 computation_placer.cc:177] computation placer already registered. Please check linkage and avoid linking the same target more than once.\n",
      "W0000 00:00:1748630287.618977  115899 computation_placer.cc:177] computation placer already registered. Please check linkage and avoid linking the same target more than once.\n",
      "2025-05-30 12:38:07.672796: I tensorflow/core/platform/cpu_feature_guard.cc:210] This TensorFlow binary is optimized to use available CPU instructions in performance-critical operations.\n",
      "To enable the following instructions: AVX2 AVX512F AVX512_VNNI FMA, in other operations, rebuild TensorFlow with the appropriate compiler flags.\n"
     ]
    }
   ],
   "source": [
    "import pandas as pd\n",
    "import numpy as np\n",
    "import tensorflow as tf\n",
    "import seaborn as sns\n",
    "from matplotlib import pyplot as plt"
   ]
  },
  {
   "cell_type": "markdown",
   "id": "555d4557",
   "metadata": {},
   "source": [
    "### Lectura de datos"
   ]
  },
  {
   "cell_type": "code",
   "execution_count": 2,
   "id": "0898f7a8",
   "metadata": {},
   "outputs": [
    {
     "data": {
      "text/html": [
       "<div>\n",
       "<style scoped>\n",
       "    .dataframe tbody tr th:only-of-type {\n",
       "        vertical-align: middle;\n",
       "    }\n",
       "\n",
       "    .dataframe tbody tr th {\n",
       "        vertical-align: top;\n",
       "    }\n",
       "\n",
       "    .dataframe thead th {\n",
       "        text-align: right;\n",
       "    }\n",
       "</style>\n",
       "<table border=\"1\" class=\"dataframe\">\n",
       "  <thead>\n",
       "    <tr style=\"text-align: right;\">\n",
       "      <th></th>\n",
       "      <th>hours_coding</th>\n",
       "      <th>coffee_intake_mg</th>\n",
       "      <th>distractions</th>\n",
       "      <th>sleep_hours</th>\n",
       "      <th>commits</th>\n",
       "      <th>bugs_reported</th>\n",
       "      <th>ai_usage_hours</th>\n",
       "      <th>cognitive_load</th>\n",
       "      <th>task_success</th>\n",
       "    </tr>\n",
       "  </thead>\n",
       "  <tbody>\n",
       "    <tr>\n",
       "      <th>0</th>\n",
       "      <td>5.99</td>\n",
       "      <td>600</td>\n",
       "      <td>1</td>\n",
       "      <td>5.8</td>\n",
       "      <td>2</td>\n",
       "      <td>1</td>\n",
       "      <td>0.71</td>\n",
       "      <td>5.4</td>\n",
       "      <td>1</td>\n",
       "    </tr>\n",
       "    <tr>\n",
       "      <th>1</th>\n",
       "      <td>4.72</td>\n",
       "      <td>568</td>\n",
       "      <td>2</td>\n",
       "      <td>6.9</td>\n",
       "      <td>5</td>\n",
       "      <td>3</td>\n",
       "      <td>1.75</td>\n",
       "      <td>4.7</td>\n",
       "      <td>1</td>\n",
       "    </tr>\n",
       "    <tr>\n",
       "      <th>2</th>\n",
       "      <td>6.30</td>\n",
       "      <td>560</td>\n",
       "      <td>1</td>\n",
       "      <td>8.9</td>\n",
       "      <td>2</td>\n",
       "      <td>0</td>\n",
       "      <td>2.27</td>\n",
       "      <td>2.2</td>\n",
       "      <td>1</td>\n",
       "    </tr>\n",
       "    <tr>\n",
       "      <th>3</th>\n",
       "      <td>8.05</td>\n",
       "      <td>600</td>\n",
       "      <td>7</td>\n",
       "      <td>6.3</td>\n",
       "      <td>9</td>\n",
       "      <td>5</td>\n",
       "      <td>1.40</td>\n",
       "      <td>5.9</td>\n",
       "      <td>0</td>\n",
       "    </tr>\n",
       "    <tr>\n",
       "      <th>4</th>\n",
       "      <td>4.53</td>\n",
       "      <td>421</td>\n",
       "      <td>6</td>\n",
       "      <td>6.9</td>\n",
       "      <td>4</td>\n",
       "      <td>0</td>\n",
       "      <td>1.26</td>\n",
       "      <td>6.3</td>\n",
       "      <td>1</td>\n",
       "    </tr>\n",
       "  </tbody>\n",
       "</table>\n",
       "</div>"
      ],
      "text/plain": [
       "   hours_coding  coffee_intake_mg  distractions  sleep_hours  commits  \\\n",
       "0          5.99               600             1          5.8        2   \n",
       "1          4.72               568             2          6.9        5   \n",
       "2          6.30               560             1          8.9        2   \n",
       "3          8.05               600             7          6.3        9   \n",
       "4          4.53               421             6          6.9        4   \n",
       "\n",
       "   bugs_reported  ai_usage_hours  cognitive_load  task_success  \n",
       "0              1            0.71             5.4             1  \n",
       "1              3            1.75             4.7             1  \n",
       "2              0            2.27             2.2             1  \n",
       "3              5            1.40             5.9             0  \n",
       "4              0            1.26             6.3             1  "
      ]
     },
     "execution_count": 2,
     "metadata": {},
     "output_type": "execute_result"
    }
   ],
   "source": [
    "file = \"ai_dev_prod.csv\"\n",
    "df = pd.read_csv(file)\n",
    "df.head(5)"
   ]
  },
  {
   "cell_type": "code",
   "execution_count": 3,
   "id": "9e8e60c7",
   "metadata": {},
   "outputs": [
    {
     "name": "stdout",
     "output_type": "stream",
     "text": [
      "<class 'pandas.core.frame.DataFrame'>\n",
      "RangeIndex: 500 entries, 0 to 499\n",
      "Data columns (total 9 columns):\n",
      " #   Column            Non-Null Count  Dtype  \n",
      "---  ------            --------------  -----  \n",
      " 0   hours_coding      500 non-null    float64\n",
      " 1   coffee_intake_mg  500 non-null    int64  \n",
      " 2   distractions      500 non-null    int64  \n",
      " 3   sleep_hours       500 non-null    float64\n",
      " 4   commits           500 non-null    int64  \n",
      " 5   bugs_reported     500 non-null    int64  \n",
      " 6   ai_usage_hours    500 non-null    float64\n",
      " 7   cognitive_load    500 non-null    float64\n",
      " 8   task_success      500 non-null    int64  \n",
      "dtypes: float64(4), int64(5)\n",
      "memory usage: 35.3 KB\n"
     ]
    }
   ],
   "source": [
    "df.info()"
   ]
  },
  {
   "cell_type": "code",
   "execution_count": 4,
   "id": "d6d76a6d",
   "metadata": {},
   "outputs": [
    {
     "data": {
      "text/html": [
       "<div>\n",
       "<style scoped>\n",
       "    .dataframe tbody tr th:only-of-type {\n",
       "        vertical-align: middle;\n",
       "    }\n",
       "\n",
       "    .dataframe tbody tr th {\n",
       "        vertical-align: top;\n",
       "    }\n",
       "\n",
       "    .dataframe thead th {\n",
       "        text-align: right;\n",
       "    }\n",
       "</style>\n",
       "<table border=\"1\" class=\"dataframe\">\n",
       "  <thead>\n",
       "    <tr style=\"text-align: right;\">\n",
       "      <th></th>\n",
       "      <th>hours_coding</th>\n",
       "      <th>coffee_intake_mg</th>\n",
       "      <th>distractions</th>\n",
       "      <th>sleep_hours</th>\n",
       "      <th>commits</th>\n",
       "      <th>bugs_reported</th>\n",
       "      <th>ai_usage_hours</th>\n",
       "      <th>cognitive_load</th>\n",
       "      <th>task_success</th>\n",
       "    </tr>\n",
       "  </thead>\n",
       "  <tbody>\n",
       "    <tr>\n",
       "      <th>count</th>\n",
       "      <td>500.000000</td>\n",
       "      <td>500.000000</td>\n",
       "      <td>500.000000</td>\n",
       "      <td>500.000000</td>\n",
       "      <td>500.00000</td>\n",
       "      <td>500.000000</td>\n",
       "      <td>500.000000</td>\n",
       "      <td>500.000000</td>\n",
       "      <td>500.000000</td>\n",
       "    </tr>\n",
       "    <tr>\n",
       "      <th>mean</th>\n",
       "      <td>5.015600</td>\n",
       "      <td>463.192000</td>\n",
       "      <td>2.976000</td>\n",
       "      <td>6.975800</td>\n",
       "      <td>4.60800</td>\n",
       "      <td>0.858000</td>\n",
       "      <td>1.510920</td>\n",
       "      <td>4.498200</td>\n",
       "      <td>0.606000</td>\n",
       "    </tr>\n",
       "    <tr>\n",
       "      <th>std</th>\n",
       "      <td>1.947253</td>\n",
       "      <td>142.334991</td>\n",
       "      <td>1.678409</td>\n",
       "      <td>1.455965</td>\n",
       "      <td>2.70499</td>\n",
       "      <td>1.102846</td>\n",
       "      <td>1.085557</td>\n",
       "      <td>1.868861</td>\n",
       "      <td>0.489124</td>\n",
       "    </tr>\n",
       "    <tr>\n",
       "      <th>min</th>\n",
       "      <td>0.000000</td>\n",
       "      <td>6.000000</td>\n",
       "      <td>0.000000</td>\n",
       "      <td>3.000000</td>\n",
       "      <td>0.00000</td>\n",
       "      <td>0.000000</td>\n",
       "      <td>0.000000</td>\n",
       "      <td>1.000000</td>\n",
       "      <td>0.000000</td>\n",
       "    </tr>\n",
       "    <tr>\n",
       "      <th>25%</th>\n",
       "      <td>3.600000</td>\n",
       "      <td>369.500000</td>\n",
       "      <td>2.000000</td>\n",
       "      <td>6.100000</td>\n",
       "      <td>3.00000</td>\n",
       "      <td>0.000000</td>\n",
       "      <td>0.697500</td>\n",
       "      <td>3.175000</td>\n",
       "      <td>0.000000</td>\n",
       "    </tr>\n",
       "    <tr>\n",
       "      <th>50%</th>\n",
       "      <td>5.030000</td>\n",
       "      <td>500.500000</td>\n",
       "      <td>3.000000</td>\n",
       "      <td>6.950000</td>\n",
       "      <td>5.00000</td>\n",
       "      <td>0.000000</td>\n",
       "      <td>1.260000</td>\n",
       "      <td>4.400000</td>\n",
       "      <td>1.000000</td>\n",
       "    </tr>\n",
       "    <tr>\n",
       "      <th>75%</th>\n",
       "      <td>6.275000</td>\n",
       "      <td>600.000000</td>\n",
       "      <td>4.000000</td>\n",
       "      <td>7.900000</td>\n",
       "      <td>6.00000</td>\n",
       "      <td>2.000000</td>\n",
       "      <td>2.070000</td>\n",
       "      <td>5.800000</td>\n",
       "      <td>1.000000</td>\n",
       "    </tr>\n",
       "    <tr>\n",
       "      <th>max</th>\n",
       "      <td>12.000000</td>\n",
       "      <td>600.000000</td>\n",
       "      <td>8.000000</td>\n",
       "      <td>10.000000</td>\n",
       "      <td>13.00000</td>\n",
       "      <td>5.000000</td>\n",
       "      <td>6.360000</td>\n",
       "      <td>10.000000</td>\n",
       "      <td>1.000000</td>\n",
       "    </tr>\n",
       "  </tbody>\n",
       "</table>\n",
       "</div>"
      ],
      "text/plain": [
       "       hours_coding  coffee_intake_mg  distractions  sleep_hours    commits  \\\n",
       "count    500.000000        500.000000    500.000000   500.000000  500.00000   \n",
       "mean       5.015600        463.192000      2.976000     6.975800    4.60800   \n",
       "std        1.947253        142.334991      1.678409     1.455965    2.70499   \n",
       "min        0.000000          6.000000      0.000000     3.000000    0.00000   \n",
       "25%        3.600000        369.500000      2.000000     6.100000    3.00000   \n",
       "50%        5.030000        500.500000      3.000000     6.950000    5.00000   \n",
       "75%        6.275000        600.000000      4.000000     7.900000    6.00000   \n",
       "max       12.000000        600.000000      8.000000    10.000000   13.00000   \n",
       "\n",
       "       bugs_reported  ai_usage_hours  cognitive_load  task_success  \n",
       "count     500.000000      500.000000      500.000000    500.000000  \n",
       "mean        0.858000        1.510920        4.498200      0.606000  \n",
       "std         1.102846        1.085557        1.868861      0.489124  \n",
       "min         0.000000        0.000000        1.000000      0.000000  \n",
       "25%         0.000000        0.697500        3.175000      0.000000  \n",
       "50%         0.000000        1.260000        4.400000      1.000000  \n",
       "75%         2.000000        2.070000        5.800000      1.000000  \n",
       "max         5.000000        6.360000       10.000000      1.000000  "
      ]
     },
     "execution_count": 4,
     "metadata": {},
     "output_type": "execute_result"
    }
   ],
   "source": [
    "df.describe()"
   ]
  },
  {
   "cell_type": "markdown",
   "id": "5852aaa9",
   "metadata": {},
   "source": [
    "### Preparación de Datos"
   ]
  },
  {
   "cell_type": "code",
   "execution_count": 5,
   "id": "be51e5fb",
   "metadata": {},
   "outputs": [
    {
     "data": {
      "text/plain": [
       "(Index(['hours_coding', 'coffee_intake_mg', 'distractions', 'sleep_hours',\n",
       "        'commits', 'bugs_reported', 'ai_usage_hours', 'cognitive_load'],\n",
       "       dtype='object'),\n",
       " Index(['task_success'], dtype='object'))"
      ]
     },
     "execution_count": 5,
     "metadata": {},
     "output_type": "execute_result"
    }
   ],
   "source": [
    "X = df.iloc[:, :-1]\n",
    "Y = df.iloc[:, -1:]\n",
    "x_cols = {}\n",
    "y_cols = {}\n",
    "X.columns, Y.columns"
   ]
  },
  {
   "cell_type": "code",
   "execution_count": 6,
   "id": "4731452d",
   "metadata": {},
   "outputs": [],
   "source": [
    "for col in X.columns:\n",
    "    maxim = X[col].max()\n",
    "    x_cols[col] = maxim\n",
    "    X[col] = X[col] / maxim\n"
   ]
  },
  {
   "cell_type": "code",
   "execution_count": 7,
   "id": "61640288",
   "metadata": {},
   "outputs": [],
   "source": [
    "# Transformación de los datos\n",
    "# X = X.T\n",
    "# Y = Y.T\n",
    "X = np.array(X)\n",
    "Y = np.array(Y)"
   ]
  },
  {
   "cell_type": "code",
   "execution_count": 8,
   "id": "849a5d3c",
   "metadata": {},
   "outputs": [
    {
     "data": {
      "text/plain": [
       "((500, 8), (500, 1))"
      ]
     },
     "execution_count": 8,
     "metadata": {},
     "output_type": "execute_result"
    }
   ],
   "source": [
    "X.shape, Y.shape"
   ]
  },
  {
   "cell_type": "code",
   "execution_count": 97,
   "id": "d190b8ea",
   "metadata": {},
   "outputs": [
    {
     "name": "stdout",
     "output_type": "stream",
     "text": [
      "adding: model.add(tf.keras.layers.Dense(10, activation='relu'))\n",
      "adding: model.add(tf.keras.layers.Dense(1, activation='sigmoid'))\n",
      "Pérdida final: 0.0173\n",
      "Accuracy final: 0.9800\n"
     ]
    },
    {
     "data": {
      "image/png": "[encoded data removed]",
      "text/plain": [
       "<Figure size 640x480 with 1 Axes>"
      ]
     },
     "metadata": {},
     "output_type": "display_data"
    }
   ],
   "source": [
    "pasos = 1000\n",
    "batch = 32\n",
    "capas = (\n",
    "    (10, 'relu'),\n",
    "    (1, 'sigmoid'),\n",
    ")\n",
    "\n",
    "model = tf.keras.Sequential(name=\"idp\")\n",
    "model.add(tf.keras.layers.InputLayer(shape=(8,)))\n",
    "for capa in capas:\n",
    "    print(f\"adding: model.add(tf.keras.layers.Dense({capa[0]}, activation='{capa[1]}'))\")\n",
    "    exec(f\"model.add(tf.keras.layers.Dense({capa[0]}, activation='{capa[1]}'))\")\n",
    "\n",
    "model.compile(optimizer=tf.keras.optimizers.Adam(learning_rate=0.02),\n",
    "              loss=tf.keras.losses.MeanSquaredError(),\n",
    "              metrics=['accuracy'])\n",
    "\n",
    "# model.summary()\n",
    "history = model.fit(X, Y, epochs=pasos, batch_size=batch, verbose=0)\n",
    "print(f\"Pérdida final: {history.history['loss'][-1]:.4f}\")\n",
    "print(f\"Accuracy final: {history.history['accuracy'][-1]:.4f}\")\n",
    "lost_hist = history.history[\"loss\"]\n",
    "sns.lineplot(lost_hist)\n",
    "plt.show()"
   ]
  },
  {
   "cell_type": "code",
   "execution_count": 87,
   "id": "7c4c3c59",
   "metadata": {},
   "outputs": [],
   "source": [
    "def predict(predict_data, decs = 5):\n",
    "    data = pd.DataFrame.from_dict(predict_data)\n",
    "    for col in x_cols.keys():\n",
    "        data[col] = data[col] / x_cols[col]\n",
    "    x_pred = np.array(data)\n",
    "    pred = model.predict(x_pred, verbose=0)\n",
    "    pred = [round(p[0], decs) for p in pred]\n",
    "    return pred\n",
    "    return round(pred[0][0], decs)"
   ]
  },
  {
   "cell_type": "code",
   "execution_count": 99,
   "id": "13778423",
   "metadata": {},
   "outputs": [
    {
     "data": {
      "text/plain": [
       "[np.float32(1.0), np.float32(1.0), np.float32(1.0)]"
      ]
     },
     "execution_count": 99,
     "metadata": {},
     "output_type": "execute_result"
    }
   ],
   "source": [
    "\n",
    "\n",
    "predict_data = [\n",
    "    {\n",
    "        \"hours_coding\": 8,\n",
    "        \"coffee_intake_mg\": 0,\n",
    "        \"distractions\": 0,\n",
    "        \"sleep_hours\": 8,\n",
    "        \"commits\": 2,\n",
    "        \"bugs_reported\": 1,\n",
    "        \"ai_usage_hours\": 0,\n",
    "        \"cognitive_load\": 4,\n",
    "    },\n",
    "    {\n",
    "        \"hours_coding\": 4,\n",
    "        \"coffee_intake_mg\": 10000,\n",
    "        \"distractions\": 10,\n",
    "        \"sleep_hours\": 0,\n",
    "        \"commits\": 2,\n",
    "        \"bugs_reported\": 30,\n",
    "        \"ai_usage_hours\": 0,\n",
    "        \"cognitive_load\": 4,\n",
    "    },\n",
    "    {\n",
    "        \"hours_coding\": 400,\n",
    "        \"coffee_intake_mg\": 0,\n",
    "        \"distractions\": 10,\n",
    "        \"sleep_hours\": 0,\n",
    "        \"commits\": 2,\n",
    "        \"bugs_reported\": 30,\n",
    "        \"ai_usage_hours\": 0,\n",
    "        \"cognitive_load\": 4,\n",
    "    }\n",
    "]\n",
    "predict(predict_data)\n"
   ]
  }
 ],
 "metadata": {
  "kernelspec": {
   "display_name": "t12",
   "language": "python",
   "name": "python3"
  },
  "language_info": {
   "codemirror_mode": {
    "name": "ipython",
    "version": 3
   },
   "file_extension": ".py",
   "mimetype": "text/x-python",
   "name": "python",
   "nbconvert_exporter": "python",
   "pygments_lexer": "ipython3",
   "version": "3.12.7"
  }
 },
 "nbformat": 4,
 "nbformat_minor": 5
}
